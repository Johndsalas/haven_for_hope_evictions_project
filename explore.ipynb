{
 "cells": [
  {
   "cell_type": "markdown",
   "id": "simplified-elephant",
   "metadata": {},
   "source": [
    "# Exploration"
   ]
  },
  {
   "cell_type": "markdown",
   "id": "senior-basketball",
   "metadata": {},
   "source": [
    "## Imports"
   ]
  },
  {
   "cell_type": "code",
   "execution_count": 1,
   "id": "changing-integer",
   "metadata": {},
   "outputs": [],
   "source": [
    "# Libraries \n",
    "import pandas as pd\n",
    "import numpy as np\n",
    "import matplotlib.pyplot as plt\n",
    "from scipy.stats import pearsonr\n",
    "\n",
    "# moduels\n",
    "import explore_module as e \n",
    "\n",
    "# data\n",
    "# evictions cases\n",
    "edf = pd.read_excel('evictions_prepared.xlsx')\n",
    "\n",
    "# 311 homelessness requests\n",
    "rdf = pd.read_excel('requests_prepared.xlsx')"
   ]
  },
  {
   "cell_type": "markdown",
   "id": "based-offset",
   "metadata": {},
   "source": [
    "## Eviction Case Data"
   ]
  },
  {
   "cell_type": "code",
   "execution_count": 2,
   "id": "accredited-occupation",
   "metadata": {},
   "outputs": [
    {
     "data": {
      "text/html": [
       "<div>\n",
       "<style scoped>\n",
       "    .dataframe tbody tr th:only-of-type {\n",
       "        vertical-align: middle;\n",
       "    }\n",
       "\n",
       "    .dataframe tbody tr th {\n",
       "        vertical-align: top;\n",
       "    }\n",
       "\n",
       "    .dataframe thead th {\n",
       "        text-align: right;\n",
       "    }\n",
       "</style>\n",
       "<table border=\"1\" class=\"dataframe\">\n",
       "  <thead>\n",
       "    <tr style=\"text-align: right;\">\n",
       "      <th></th>\n",
       "      <th>case_number</th>\n",
       "      <th>judgement_date</th>\n",
       "      <th>zip_code</th>\n",
       "      <th>disposition</th>\n",
       "    </tr>\n",
       "  </thead>\n",
       "  <tbody>\n",
       "    <tr>\n",
       "      <th>0</th>\n",
       "      <td>41E2407310</td>\n",
       "      <td>2024-12-19</td>\n",
       "      <td>78223</td>\n",
       "      <td>Judgment for Plaintiff (OCA)</td>\n",
       "    </tr>\n",
       "    <tr>\n",
       "      <th>1</th>\n",
       "      <td>21E2407657</td>\n",
       "      <td>2024-12-19</td>\n",
       "      <td>78229</td>\n",
       "      <td>Default Judgments (OCA)</td>\n",
       "    </tr>\n",
       "    <tr>\n",
       "      <th>2</th>\n",
       "      <td>21E2407655</td>\n",
       "      <td>2024-12-19</td>\n",
       "      <td>78229</td>\n",
       "      <td>Default Judgments (OCA)</td>\n",
       "    </tr>\n",
       "    <tr>\n",
       "      <th>3</th>\n",
       "      <td>21E2407654</td>\n",
       "      <td>2024-12-19</td>\n",
       "      <td>78229</td>\n",
       "      <td>Default Judgments (OCA)</td>\n",
       "    </tr>\n",
       "    <tr>\n",
       "      <th>4</th>\n",
       "      <td>21E2407650</td>\n",
       "      <td>2024-12-19</td>\n",
       "      <td>78251</td>\n",
       "      <td>Default Judgments (OCA)</td>\n",
       "    </tr>\n",
       "  </tbody>\n",
       "</table>\n",
       "</div>"
      ],
      "text/plain": [
       "  case_number judgement_date  zip_code                   disposition\n",
       "0  41E2407310     2024-12-19     78223  Judgment for Plaintiff (OCA)\n",
       "1  21E2407657     2024-12-19     78229       Default Judgments (OCA)\n",
       "2  21E2407655     2024-12-19     78229       Default Judgments (OCA)\n",
       "3  21E2407654     2024-12-19     78229       Default Judgments (OCA)\n",
       "4  21E2407650     2024-12-19     78251       Default Judgments (OCA)"
      ]
     },
     "execution_count": 2,
     "metadata": {},
     "output_type": "execute_result"
    }
   ],
   "source": [
    "edf.head()"
   ]
  },
  {
   "cell_type": "markdown",
   "id": "deluxe-insurance",
   "metadata": {},
   "source": [
    "## 311 Requests Data"
   ]
  },
  {
   "cell_type": "code",
   "execution_count": 3,
   "id": "fifth-attitude",
   "metadata": {},
   "outputs": [
    {
     "data": {
      "text/html": [
       "<div>\n",
       "<style scoped>\n",
       "    .dataframe tbody tr th:only-of-type {\n",
       "        vertical-align: middle;\n",
       "    }\n",
       "\n",
       "    .dataframe tbody tr th {\n",
       "        vertical-align: top;\n",
       "    }\n",
       "\n",
       "    .dataframe thead th {\n",
       "        text-align: right;\n",
       "    }\n",
       "</style>\n",
       "<table border=\"1\" class=\"dataframe\">\n",
       "  <thead>\n",
       "    <tr style=\"text-align: right;\">\n",
       "      <th></th>\n",
       "      <th>open_date</th>\n",
       "      <th>type</th>\n",
       "      <th>latitude</th>\n",
       "      <th>longitude</th>\n",
       "      <th>zip_code</th>\n",
       "    </tr>\n",
       "  </thead>\n",
       "  <tbody>\n",
       "    <tr>\n",
       "      <th>0</th>\n",
       "      <td>2023-10-20</td>\n",
       "      <td>Homeless Encampment</td>\n",
       "      <td>29.444219</td>\n",
       "      <td>-98.516167</td>\n",
       "      <td>78201</td>\n",
       "    </tr>\n",
       "    <tr>\n",
       "      <th>1</th>\n",
       "      <td>2023-11-02</td>\n",
       "      <td>Homeless Encampment</td>\n",
       "      <td>29.351602</td>\n",
       "      <td>-98.534868</td>\n",
       "      <td>78224</td>\n",
       "    </tr>\n",
       "    <tr>\n",
       "      <th>2</th>\n",
       "      <td>2023-11-06</td>\n",
       "      <td>Homeless Encampment</td>\n",
       "      <td>29.535004</td>\n",
       "      <td>-98.541934</td>\n",
       "      <td>78230</td>\n",
       "    </tr>\n",
       "    <tr>\n",
       "      <th>3</th>\n",
       "      <td>2023-11-28</td>\n",
       "      <td>Homeless Encampment</td>\n",
       "      <td>29.461083</td>\n",
       "      <td>-98.569024</td>\n",
       "      <td>78228</td>\n",
       "    </tr>\n",
       "    <tr>\n",
       "      <th>4</th>\n",
       "      <td>2023-12-04</td>\n",
       "      <td>Homeless Encampment</td>\n",
       "      <td>29.528313</td>\n",
       "      <td>-98.556656</td>\n",
       "      <td>78230</td>\n",
       "    </tr>\n",
       "  </tbody>\n",
       "</table>\n",
       "</div>"
      ],
      "text/plain": [
       "   open_date                 type   latitude  longitude  zip_code\n",
       "0 2023-10-20  Homeless Encampment  29.444219 -98.516167     78201\n",
       "1 2023-11-02  Homeless Encampment  29.351602 -98.534868     78224\n",
       "2 2023-11-06  Homeless Encampment  29.535004 -98.541934     78230\n",
       "3 2023-11-28  Homeless Encampment  29.461083 -98.569024     78228\n",
       "4 2023-12-04  Homeless Encampment  29.528313 -98.556656     78230"
      ]
     },
     "execution_count": 3,
     "metadata": {},
     "output_type": "execute_result"
    }
   ],
   "source": [
    "rdf.head()"
   ]
  },
  {
   "cell_type": "markdown",
   "id": "thousand-agency",
   "metadata": {},
   "source": [
    "## Is there enough time overlap in the evictions and requests data to make for a good comparison?\n",
    "* Evictions data cover all of 2024\n",
    "* Requests data cover from late 2023 to early 2025\n",
    "* Data will be compared using eviction cases and homelessness requests made during 2024"
   ]
  },
  {
   "cell_type": "code",
   "execution_count": 4,
   "id": "homeless-southeast",
   "metadata": {},
   "outputs": [
    {
     "name": "stdout",
     "output_type": "stream",
     "text": [
      "The eviction dataframe contains data from\n",
      "2024-01-02 00:00:00\n",
      "to\n",
      "2024-12-19 00:00:00\n",
      "\n",
      "The requests dataframe contains data from\n",
      "2023-10-20 00:00:00\n",
      "to\n",
      "2025-04-12 00:00:00\n",
      "\n",
      "Trimming request data to include only 2024\n",
      "exporting to requests_2024\n"
     ]
    },
    {
     "data": {
      "text/html": [
       "<div>\n",
       "<style scoped>\n",
       "    .dataframe tbody tr th:only-of-type {\n",
       "        vertical-align: middle;\n",
       "    }\n",
       "\n",
       "    .dataframe tbody tr th {\n",
       "        vertical-align: top;\n",
       "    }\n",
       "\n",
       "    .dataframe thead th {\n",
       "        text-align: right;\n",
       "    }\n",
       "</style>\n",
       "<table border=\"1\" class=\"dataframe\">\n",
       "  <thead>\n",
       "    <tr style=\"text-align: right;\">\n",
       "      <th></th>\n",
       "      <th>open_date</th>\n",
       "      <th>type</th>\n",
       "      <th>latitude</th>\n",
       "      <th>longitude</th>\n",
       "      <th>zip_code</th>\n",
       "    </tr>\n",
       "  </thead>\n",
       "  <tbody>\n",
       "    <tr>\n",
       "      <th>12</th>\n",
       "      <td>2024-01-03</td>\n",
       "      <td>Homeless Encampment</td>\n",
       "      <td>29.427353</td>\n",
       "      <td>-98.503727</td>\n",
       "      <td>78207</td>\n",
       "    </tr>\n",
       "    <tr>\n",
       "      <th>13</th>\n",
       "      <td>2024-01-03</td>\n",
       "      <td>Homeless Encampment</td>\n",
       "      <td>29.448031</td>\n",
       "      <td>-98.707380</td>\n",
       "      <td>78251</td>\n",
       "    </tr>\n",
       "    <tr>\n",
       "      <th>14</th>\n",
       "      <td>2024-01-04</td>\n",
       "      <td>Homeless Encampment</td>\n",
       "      <td>29.524882</td>\n",
       "      <td>-98.410335</td>\n",
       "      <td>78217</td>\n",
       "    </tr>\n",
       "    <tr>\n",
       "      <th>15</th>\n",
       "      <td>2024-01-04</td>\n",
       "      <td>Homeless Encampment</td>\n",
       "      <td>29.428445</td>\n",
       "      <td>-98.452225</td>\n",
       "      <td>78202</td>\n",
       "    </tr>\n",
       "    <tr>\n",
       "      <th>16</th>\n",
       "      <td>2024-01-05</td>\n",
       "      <td>Homeless Encampment</td>\n",
       "      <td>29.476837</td>\n",
       "      <td>-98.588266</td>\n",
       "      <td>78228</td>\n",
       "    </tr>\n",
       "  </tbody>\n",
       "</table>\n",
       "</div>"
      ],
      "text/plain": [
       "    open_date                 type   latitude  longitude  zip_code\n",
       "12 2024-01-03  Homeless Encampment  29.427353 -98.503727     78207\n",
       "13 2024-01-03  Homeless Encampment  29.448031 -98.707380     78251\n",
       "14 2024-01-04  Homeless Encampment  29.524882 -98.410335     78217\n",
       "15 2024-01-04  Homeless Encampment  29.428445 -98.452225     78202\n",
       "16 2024-01-05  Homeless Encampment  29.476837 -98.588266     78228"
      ]
     },
     "execution_count": 4,
     "metadata": {},
     "output_type": "execute_result"
    }
   ],
   "source": [
    "# getting comp readout of min and max time for each dataframe\n",
    "rdf = e.time_stamp(edf,rdf)\n",
    "\n",
    "rdf.head()"
   ]
  },
  {
   "cell_type": "markdown",
   "id": "maritime-triangle",
   "metadata": {},
   "source": [
    "## What different types of homelessness related 311 request were made in 2024 and how are they distributed in the data?\n",
    "* The near totality of requests related to homeless encampments\n",
    "* A very small portion of requests are for homeless outreach\n"
   ]
  },
  {
   "cell_type": "code",
   "execution_count": 5,
   "id": "statutory-knowing",
   "metadata": {},
   "outputs": [
    {
     "data": {
      "image/png": "[encoded data removed]",
      "text/plain": [
       "<Figure size 720x432 with 1 Axes>"
      ]
     },
     "metadata": {
      "needs_background": "light"
     },
     "output_type": "display_data"
    }
   ],
   "source": [
    "e.get_request_bar(rdf)"
   ]
  },
  {
   "cell_type": "markdown",
   "id": "aggressive-yugoslavia",
   "metadata": {},
   "source": [
    "## Are 311 homelessness requests a good measure of the overall homeless population?\n",
    "* It stands to reason that a larger homeless population would result in larger and more frequent homeless encampments which would in turn result in a larger number of encampment related 311 requests. For this reason tracking changes in the homeless population using these requests seems reasonable.\n",
    "* It is unclear how multiple requests regarding the same encampment are tracked or if they are tracked. This may muddy the results but not enough to discount this as a measure\n",
    "* Overall I believe that changes in homelessness requests will serve as a good, if imperfect, measure of changes in the homeless population\n"
   ]
  },
  {
   "cell_type": "markdown",
   "id": "dangerous-rochester",
   "metadata": {},
   "source": [
    "## What is the distribution of judgements for cases being used to track evictions and are these cases a good measure of total evictions?\n",
    "* Only cases with judgements for the plaintiff or default judgements were included\n",
    "* Eviction cases that rule in favor of the plaintiff begin the process of a tenant being evicted\n",
    "* Default judgements are awarded in the event that one of the parties failing to appear at court. Because the plaintiff would need to file a case for one to exist in the first place it is likely that the grand majority of these cases were in favor of the plaintiff and began an eviction process\n",
    "* It stands to reason that cases with either judgement as it’s most recent judgement represent an instance of one or more persons being evicted\n",
    "* Tenants cannot lawfully be evicted in San Antonio without filing for evictions\n",
    "* Informal evictions such as those between family members may not go through a formal eviction process and so will not appear in our data\n",
    "* While we cannot capture all evictions in our data it stands to reason that changes in eviction case numbers will, if imperfactly, reflect changes in the total number of evictions and so it is a good measure to use"
   ]
  },
  {
   "cell_type": "code",
   "execution_count": 6,
   "id": "executive-commander",
   "metadata": {},
   "outputs": [
    {
     "data": {
      "image/png": "[encoded data removed]",
      "text/plain": [
       "<Figure size 720x432 with 1 Axes>"
      ]
     },
     "metadata": {
      "needs_background": "light"
     },
     "output_type": "display_data"
    }
   ],
   "source": [
    "e.get_case_bar(edf)"
   ]
  },
  {
   "cell_type": "markdown",
   "id": "controlled-relations",
   "metadata": {},
   "source": [
    "## Is there a correlation between eviction cases and 311 homelessness requests?\n",
    "* Information from the requests and eviction data was combined to gather the number of homelessness requests and eviction cases per zip code in San Antonio in 2024\n",
    "* A scatterplot and correlation test of homelessness requests and eviction cases by zip code shows a strong correlation between the two that is statistically significant"
   ]
  },
  {
   "cell_type": "markdown",
   "id": "spread-pointer",
   "metadata": {},
   "source": [
    "### Comparison Dataframe"
   ]
  },
  {
   "cell_type": "code",
   "execution_count": 7,
   "id": "three-service",
   "metadata": {},
   "outputs": [
    {
     "data": {
      "text/html": [
       "<div>\n",
       "<style scoped>\n",
       "    .dataframe tbody tr th:only-of-type {\n",
       "        vertical-align: middle;\n",
       "    }\n",
       "\n",
       "    .dataframe tbody tr th {\n",
       "        vertical-align: top;\n",
       "    }\n",
       "\n",
       "    .dataframe thead th {\n",
       "        text-align: right;\n",
       "    }\n",
       "</style>\n",
       "<table border=\"1\" class=\"dataframe\">\n",
       "  <thead>\n",
       "    <tr style=\"text-align: right;\">\n",
       "      <th></th>\n",
       "      <th>zip_code</th>\n",
       "      <th>homelessness_requests</th>\n",
       "      <th>eviction_cases</th>\n",
       "    </tr>\n",
       "  </thead>\n",
       "  <tbody>\n",
       "    <tr>\n",
       "      <th>0</th>\n",
       "      <td>78201</td>\n",
       "      <td>228</td>\n",
       "      <td>388</td>\n",
       "    </tr>\n",
       "    <tr>\n",
       "      <th>1</th>\n",
       "      <td>78202</td>\n",
       "      <td>27</td>\n",
       "      <td>177</td>\n",
       "    </tr>\n",
       "    <tr>\n",
       "      <th>2</th>\n",
       "      <td>78203</td>\n",
       "      <td>9</td>\n",
       "      <td>31</td>\n",
       "    </tr>\n",
       "    <tr>\n",
       "      <th>3</th>\n",
       "      <td>78204</td>\n",
       "      <td>48</td>\n",
       "      <td>72</td>\n",
       "    </tr>\n",
       "    <tr>\n",
       "      <th>4</th>\n",
       "      <td>78205</td>\n",
       "      <td>22</td>\n",
       "      <td>20</td>\n",
       "    </tr>\n",
       "  </tbody>\n",
       "</table>\n",
       "</div>"
      ],
      "text/plain": [
       "  zip_code  homelessness_requests  eviction_cases\n",
       "0    78201                    228             388\n",
       "1    78202                     27             177\n",
       "2    78203                      9              31\n",
       "3    78204                     48              72\n",
       "4    78205                     22              20"
      ]
     },
     "execution_count": 7,
     "metadata": {},
     "output_type": "execute_result"
    }
   ],
   "source": [
    "# making comparison dataframe\n",
    "zipdf, rdf, edf = e.get_zip_compare(edf,rdf)\n",
    "    \n",
    "zipdf.head()"
   ]
  },
  {
   "cell_type": "markdown",
   "id": "turned-vision",
   "metadata": {},
   "source": [
    "### Scatterplot and Pearson's r Result"
   ]
  },
  {
   "cell_type": "code",
   "execution_count": 8,
   "id": "pacific-edgar",
   "metadata": {},
   "outputs": [
    {
     "data": {
      "image/png": "[encoded data removed]",
      "text/plain": [
       "<Figure size 432x288 with 1 Axes>"
      ]
     },
     "metadata": {
      "needs_background": "light"
     },
     "output_type": "display_data"
    },
    {
     "name": "stdout",
     "output_type": "stream",
     "text": [
      "Correlation Coefficient: 0.6240280503952236\n",
      "P-value: 6.433703413332502e-11\n"
     ]
    }
   ],
   "source": [
    "# gatting scatterplot and p\n",
    "e.get_zip_scatter(zipdf)"
   ]
  },
  {
   "cell_type": "markdown",
   "id": "wrong-memorial",
   "metadata": {},
   "source": [
    "## Conclusion\n",
    "* Fluxuations in the number of 311 calls related to homelessness seem to be a good indicator of fluctuations in the homeless population\n",
    "* Fluxuations in the number of eviction cases with judgements likely leading to evictions seems to be a good indicator of fluctuations in the total number of evictions\n",
    "* There is a strong correlation between the number of eviction cases and the number of 311 calls related to homelessness in San Antonio in 2024\n",
    "* This suggests a link between evictions and homelessness\n",
    "* All available evidence suggests that evictions is a driver of homelessness"
   ]
  },
  {
   "cell_type": "markdown",
   "id": "brazilian-celebration",
   "metadata": {},
   "source": [
    "## Further Inquiry\n",
    "* Because the evidence we have is correlatory we cannot rule out the possibility that evictions and homelessness are both independently driven by third variable such as population\n",
    "* More research into this possibility should be conducted in the future"
   ]
  }
 ],
 "metadata": {
  "kernelspec": {
   "display_name": "Python 3",
   "language": "python",
   "name": "python3"
  },
  "language_info": {
   "codemirror_mode": {
    "name": "ipython",
    "version": 3
   },
   "file_extension": ".py",
   "mimetype": "text/x-python",
   "name": "python",
   "nbconvert_exporter": "python",
   "pygments_lexer": "ipython3",
   "version": "3.7.4"
  }
 },
 "nbformat": 4,
 "nbformat_minor": 5
}
